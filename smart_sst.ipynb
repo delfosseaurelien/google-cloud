{
 "cells": [
  {
   "cell_type": "code",
   "execution_count": 2,
   "metadata": {
    "collapsed": true
   },
   "outputs": [],
   "source": [
    "import gcp.bigquery as bq\n",
    "import pandas as pd\n",
    "import numpy as np"
   ]
  },
  {
   "cell_type": "code",
   "execution_count": 6,
   "metadata": {
    "collapsed": false
   },
   "outputs": [],
   "source": [
    "%%sql --module all_tables\n",
    "SELECT * FROM (SELECT date,idstation,NTH(2,SPLIT(meter,'=')) as meter,XQ001 \n",
    "              FROM [raw_data_warsaw_clean.all_tables]) \n",
    "WHERE meter='S20NDD10BU900'"
   ]
  },
  {
   "cell_type": "code",
   "execution_count": 7,
   "metadata": {
    "collapsed": false
   },
   "outputs": [
    {
     "ename": "RequestException",
     "evalue": "Error encountered during execution. Retrying may solve the problem.",
     "output_type": "error",
     "traceback": [
      "\u001b[0;31m\u001b[0m",
      "\u001b[0;31mRequestException\u001b[0mTraceback (most recent call last)",
      "\u001b[0;32m<ipython-input-7-6e58f7f6a212>\u001b[0m in \u001b[0;36m<module>\u001b[0;34m()\u001b[0m\n\u001b[0;32m----> 1\u001b[0;31m \u001b[0mdf\u001b[0m \u001b[0;34m=\u001b[0m \u001b[0mbq\u001b[0m\u001b[0;34m.\u001b[0m\u001b[0mQuery\u001b[0m\u001b[0;34m(\u001b[0m\u001b[0mall_tables\u001b[0m\u001b[0;34m)\u001b[0m\u001b[0;34m.\u001b[0m\u001b[0mto_dataframe\u001b[0m\u001b[0;34m(\u001b[0m\u001b[0;34m)\u001b[0m\u001b[0;34m\u001b[0m\u001b[0m\n\u001b[0m\u001b[1;32m      2\u001b[0m \u001b[0mlen\u001b[0m\u001b[0;34m(\u001b[0m\u001b[0mdf\u001b[0m\u001b[0;34m)\u001b[0m\u001b[0;34m\u001b[0m\u001b[0m\n",
      "\u001b[0;32m/usr/local/lib/python2.7/dist-packages/gcp/bigquery/_query.pyc\u001b[0m in \u001b[0;36mto_dataframe\u001b[0;34m(self, start_row, max_rows, use_cache)\u001b[0m\n\u001b[1;32m    281\u001b[0m     \"\"\"\n\u001b[1;32m    282\u001b[0m     \u001b[0;32mreturn\u001b[0m \u001b[0mself\u001b[0m\u001b[0;34m.\u001b[0m\u001b[0mresults\u001b[0m\u001b[0;34m(\u001b[0m\u001b[0muse_cache\u001b[0m\u001b[0;34m=\u001b[0m\u001b[0muse_cache\u001b[0m\u001b[0;34m)\u001b[0m\u001b[0;31m \u001b[0m\u001b[0;31m\\\u001b[0m\u001b[0;34m\u001b[0m\u001b[0m\n\u001b[0;32m--> 283\u001b[0;31m         \u001b[0;34m.\u001b[0m\u001b[0mto_dataframe\u001b[0m\u001b[0;34m(\u001b[0m\u001b[0mstart_row\u001b[0m\u001b[0;34m=\u001b[0m\u001b[0mstart_row\u001b[0m\u001b[0;34m,\u001b[0m \u001b[0mmax_rows\u001b[0m\u001b[0;34m=\u001b[0m\u001b[0mmax_rows\u001b[0m\u001b[0;34m)\u001b[0m\u001b[0;34m\u001b[0m\u001b[0m\n\u001b[0m\u001b[1;32m    284\u001b[0m \u001b[0;34m\u001b[0m\u001b[0m\n\u001b[1;32m    285\u001b[0m   \u001b[0;32mdef\u001b[0m \u001b[0mto_file\u001b[0m\u001b[0;34m(\u001b[0m\u001b[0mself\u001b[0m\u001b[0;34m,\u001b[0m \u001b[0mpath\u001b[0m\u001b[0;34m,\u001b[0m \u001b[0mformat\u001b[0m\u001b[0;34m=\u001b[0m\u001b[0;34m'csv'\u001b[0m\u001b[0;34m,\u001b[0m \u001b[0mcsv_delimiter\u001b[0m\u001b[0;34m=\u001b[0m\u001b[0;34m','\u001b[0m\u001b[0;34m,\u001b[0m \u001b[0mcsv_header\u001b[0m\u001b[0;34m=\u001b[0m\u001b[0mTrue\u001b[0m\u001b[0;34m,\u001b[0m \u001b[0muse_cache\u001b[0m\u001b[0;34m=\u001b[0m\u001b[0mTrue\u001b[0m\u001b[0;34m)\u001b[0m\u001b[0;34m:\u001b[0m\u001b[0;34m\u001b[0m\u001b[0m\n",
      "\u001b[0;32m/usr/local/lib/python2.7/dist-packages/gcp/bigquery/_table.pyc\u001b[0m in \u001b[0;36mto_dataframe\u001b[0;34m(self, start_row, max_rows)\u001b[0m\n\u001b[1;32m    594\u001b[0m     \u001b[0mdf\u001b[0m \u001b[0;34m=\u001b[0m \u001b[0mNone\u001b[0m\u001b[0;34m\u001b[0m\u001b[0m\n\u001b[1;32m    595\u001b[0m     \u001b[0;32mwhile\u001b[0m \u001b[0mTrue\u001b[0m\u001b[0;34m:\u001b[0m\u001b[0;34m\u001b[0m\u001b[0m\n\u001b[0;32m--> 596\u001b[0;31m       \u001b[0mpage_rows\u001b[0m\u001b[0;34m,\u001b[0m \u001b[0mpage_token\u001b[0m \u001b[0;34m=\u001b[0m \u001b[0mfetcher\u001b[0m\u001b[0;34m(\u001b[0m\u001b[0mpage_token\u001b[0m\u001b[0;34m,\u001b[0m \u001b[0mcount\u001b[0m\u001b[0;34m)\u001b[0m\u001b[0;34m\u001b[0m\u001b[0m\n\u001b[0m\u001b[1;32m    597\u001b[0m       \u001b[0;32mif\u001b[0m \u001b[0mlen\u001b[0m\u001b[0;34m(\u001b[0m\u001b[0mpage_rows\u001b[0m\u001b[0;34m)\u001b[0m\u001b[0;34m:\u001b[0m\u001b[0;34m\u001b[0m\u001b[0m\n\u001b[1;32m    598\u001b[0m         \u001b[0mcount\u001b[0m \u001b[0;34m+=\u001b[0m \u001b[0mlen\u001b[0m\u001b[0;34m(\u001b[0m\u001b[0mpage_rows\u001b[0m\u001b[0;34m)\u001b[0m\u001b[0;34m\u001b[0m\u001b[0m\n",
      "\u001b[0;32m/usr/local/lib/python2.7/dist-packages/gcp/bigquery/_table.pyc\u001b[0m in \u001b[0;36m_retrieve_rows\u001b[0;34m(page_token, count)\u001b[0m\n\u001b[1;32m    554\u001b[0m                                                 max_results=max_results)\n\u001b[1;32m    555\u001b[0m         \u001b[0;32mexcept\u001b[0m \u001b[0mException\u001b[0m \u001b[0;32mas\u001b[0m \u001b[0me\u001b[0m\u001b[0;34m:\u001b[0m\u001b[0;34m\u001b[0m\u001b[0m\n\u001b[0;32m--> 556\u001b[0;31m           \u001b[0;32mraise\u001b[0m \u001b[0me\u001b[0m\u001b[0;34m\u001b[0m\u001b[0m\n\u001b[0m\u001b[1;32m    557\u001b[0m         \u001b[0mpage_token\u001b[0m \u001b[0;34m=\u001b[0m \u001b[0mresponse\u001b[0m\u001b[0;34m[\u001b[0m\u001b[0;34m'pageToken'\u001b[0m\u001b[0;34m]\u001b[0m \u001b[0;32mif\u001b[0m \u001b[0;34m'pageToken'\u001b[0m \u001b[0;32min\u001b[0m \u001b[0mresponse\u001b[0m \u001b[0;32melse\u001b[0m \u001b[0mNone\u001b[0m\u001b[0;34m\u001b[0m\u001b[0m\n\u001b[1;32m    558\u001b[0m         \u001b[0;32mif\u001b[0m \u001b[0;34m'rows'\u001b[0m \u001b[0;32min\u001b[0m \u001b[0mresponse\u001b[0m\u001b[0;34m:\u001b[0m\u001b[0;34m\u001b[0m\u001b[0m\n",
      "\u001b[0;31mRequestException\u001b[0m: Error encountered during execution. Retrying may solve the problem."
     ]
    }
   ],
   "source": [
    "df = bq.Query(all_tables).to_dataframe()\n",
    "len(df)"
   ]
  },
  {
   "cell_type": "code",
   "execution_count": 5,
   "metadata": {
    "collapsed": false
   },
   "outputs": [
    {
     "data": {
      "text/html": [
       "<div>\n",
       "<table border=\"1\" class=\"dataframe\">\n",
       "  <thead>\n",
       "    <tr style=\"text-align: right;\">\n",
       "      <th></th>\n",
       "      <th>date</th>\n",
       "      <th>idstation</th>\n",
       "      <th>meter</th>\n",
       "      <th>XQ001</th>\n",
       "      <th>XQ002</th>\n",
       "      <th>XQ003</th>\n",
       "      <th>XQ004</th>\n",
       "      <th>XQ005</th>\n",
       "      <th>XQ006</th>\n",
       "      <th>YQ001</th>\n",
       "    </tr>\n",
       "  </thead>\n",
       "  <tbody>\n",
       "    <tr>\n",
       "      <th>1</th>\n",
       "      <td>2016-04-18 01:56:00</td>\n",
       "      <td>w100</td>\n",
       "      <td>100/LG=S20NDD10BU900</td>\n",
       "      <td>16772.6</td>\n",
       "      <td>97479.2</td>\n",
       "      <td>92.7</td>\n",
       "      <td>2592.0</td>\n",
       "      <td>72.15</td>\n",
       "      <td>41.08</td>\n",
       "      <td>0.0</td>\n",
       "    </tr>\n",
       "    <tr>\n",
       "      <th>2</th>\n",
       "      <td>2016-04-18 02:56:00</td>\n",
       "      <td>w100</td>\n",
       "      <td>100/LG=S20NDD10BU900</td>\n",
       "      <td>16772.9</td>\n",
       "      <td>97481.8</td>\n",
       "      <td>98.7</td>\n",
       "      <td>2556.0</td>\n",
       "      <td>74.74</td>\n",
       "      <td>41.21</td>\n",
       "      <td>0.0</td>\n",
       "    </tr>\n",
       "    <tr>\n",
       "      <th>3</th>\n",
       "      <td>2016-04-18 03:56:00</td>\n",
       "      <td>w100</td>\n",
       "      <td>100/LG=S20NDD10BU900</td>\n",
       "      <td>16773.2</td>\n",
       "      <td>97484.4</td>\n",
       "      <td>95.4</td>\n",
       "      <td>2736.0</td>\n",
       "      <td>71.15</td>\n",
       "      <td>40.89</td>\n",
       "      <td>0.0</td>\n",
       "    </tr>\n",
       "    <tr>\n",
       "      <th>4</th>\n",
       "      <td>2016-04-18 04:56:00</td>\n",
       "      <td>w100</td>\n",
       "      <td>100/LG=S20NDD10BU900</td>\n",
       "      <td>16773.6</td>\n",
       "      <td>97487.3</td>\n",
       "      <td>107.7</td>\n",
       "      <td>2772.0</td>\n",
       "      <td>74.08</td>\n",
       "      <td>40.75</td>\n",
       "      <td>0.0</td>\n",
       "    </tr>\n",
       "    <tr>\n",
       "      <th>5</th>\n",
       "      <td>2016-04-18 05:56:00</td>\n",
       "      <td>w100</td>\n",
       "      <td>100/LG=S20NDD10BU900</td>\n",
       "      <td>16774.0</td>\n",
       "      <td>97490.1</td>\n",
       "      <td>115.0</td>\n",
       "      <td>2916.0</td>\n",
       "      <td>73.18</td>\n",
       "      <td>39.29</td>\n",
       "      <td>0.0</td>\n",
       "    </tr>\n",
       "    <tr>\n",
       "      <th>6</th>\n",
       "      <td>2016-04-18 06:56:00</td>\n",
       "      <td>w100</td>\n",
       "      <td>100/LG=S20NDD10BU900</td>\n",
       "      <td>16774.5</td>\n",
       "      <td>97493.4</td>\n",
       "      <td>126.9</td>\n",
       "      <td>3240.0</td>\n",
       "      <td>71.43</td>\n",
       "      <td>37.49</td>\n",
       "      <td>0.0</td>\n",
       "    </tr>\n",
       "    <tr>\n",
       "      <th>7</th>\n",
       "      <td>2016-04-18 07:56:00</td>\n",
       "      <td>w100</td>\n",
       "      <td>100/LG=S20NDD10BU900</td>\n",
       "      <td>16775.0</td>\n",
       "      <td>97496.8</td>\n",
       "      <td>146.6</td>\n",
       "      <td>3564.0</td>\n",
       "      <td>71.77</td>\n",
       "      <td>36.13</td>\n",
       "      <td>0.0</td>\n",
       "    </tr>\n",
       "    <tr>\n",
       "      <th>8</th>\n",
       "      <td>2016-04-18 08:56:00</td>\n",
       "      <td>w100</td>\n",
       "      <td>100/LG=S20NDD10BU900</td>\n",
       "      <td>16775.4</td>\n",
       "      <td>97500.2</td>\n",
       "      <td>133.0</td>\n",
       "      <td>3600.0</td>\n",
       "      <td>69.77</td>\n",
       "      <td>37.03</td>\n",
       "      <td>0.0</td>\n",
       "    </tr>\n",
       "    <tr>\n",
       "      <th>9</th>\n",
       "      <td>2016-04-18 09:56:00</td>\n",
       "      <td>w100</td>\n",
       "      <td>100/LG=S20NDD10BU900</td>\n",
       "      <td>16775.9</td>\n",
       "      <td>97503.6</td>\n",
       "      <td>124.1</td>\n",
       "      <td>3240.0</td>\n",
       "      <td>71.41</td>\n",
       "      <td>38.07</td>\n",
       "      <td>0.0</td>\n",
       "    </tr>\n",
       "    <tr>\n",
       "      <th>10</th>\n",
       "      <td>2016-04-18 10:56:00</td>\n",
       "      <td>w100</td>\n",
       "      <td>100/LG=S20NDD10BU900</td>\n",
       "      <td>16776.3</td>\n",
       "      <td>97506.7</td>\n",
       "      <td>114.0</td>\n",
       "      <td>2844.0</td>\n",
       "      <td>72.84</td>\n",
       "      <td>38.11</td>\n",
       "      <td>0.0</td>\n",
       "    </tr>\n",
       "  </tbody>\n",
       "</table>\n",
       "</div>"
      ],
      "text/plain": [
       "                  date idstation                 meter    XQ001    XQ002  \\\n",
       "1  2016-04-18 01:56:00      w100  100/LG=S20NDD10BU900  16772.6  97479.2   \n",
       "2  2016-04-18 02:56:00      w100  100/LG=S20NDD10BU900  16772.9  97481.8   \n",
       "3  2016-04-18 03:56:00      w100  100/LG=S20NDD10BU900  16773.2  97484.4   \n",
       "4  2016-04-18 04:56:00      w100  100/LG=S20NDD10BU900  16773.6  97487.3   \n",
       "5  2016-04-18 05:56:00      w100  100/LG=S20NDD10BU900  16774.0  97490.1   \n",
       "6  2016-04-18 06:56:00      w100  100/LG=S20NDD10BU900  16774.5  97493.4   \n",
       "7  2016-04-18 07:56:00      w100  100/LG=S20NDD10BU900  16775.0  97496.8   \n",
       "8  2016-04-18 08:56:00      w100  100/LG=S20NDD10BU900  16775.4  97500.2   \n",
       "9  2016-04-18 09:56:00      w100  100/LG=S20NDD10BU900  16775.9  97503.6   \n",
       "10 2016-04-18 10:56:00      w100  100/LG=S20NDD10BU900  16776.3  97506.7   \n",
       "\n",
       "    XQ003   XQ004  XQ005  XQ006  YQ001  \n",
       "1    92.7  2592.0  72.15  41.08    0.0  \n",
       "2    98.7  2556.0  74.74  41.21    0.0  \n",
       "3    95.4  2736.0  71.15  40.89    0.0  \n",
       "4   107.7  2772.0  74.08  40.75    0.0  \n",
       "5   115.0  2916.0  73.18  39.29    0.0  \n",
       "6   126.9  3240.0  71.43  37.49    0.0  \n",
       "7   146.6  3564.0  71.77  36.13    0.0  \n",
       "8   133.0  3600.0  69.77  37.03    0.0  \n",
       "9   124.1  3240.0  71.41  38.07    0.0  \n",
       "10  114.0  2844.0  72.84  38.11    0.0  "
      ]
     },
     "execution_count": 5,
     "metadata": {},
     "output_type": "execute_result"
    }
   ],
   "source": [
    "df.loc[1:10,]"
   ]
  },
  {
   "cell_type": "code",
   "execution_count": null,
   "metadata": {
    "collapsed": true
   },
   "outputs": [],
   "source": []
  },
  {
   "cell_type": "code",
   "execution_count": null,
   "metadata": {
    "collapsed": true
   },
   "outputs": [],
   "source": []
  }
 ],
 "metadata": {
  "kernelspec": {
   "display_name": "Python 2",
   "language": "python",
   "name": "python2"
  },
  "language_info": {
   "codemirror_mode": {
    "name": "ipython",
    "version": 2
   },
   "file_extension": ".py",
   "mimetype": "text/x-python",
   "name": "python",
   "nbconvert_exporter": "python",
   "pygments_lexer": "ipython2",
   "version": "2.7.9"
  }
 },
 "nbformat": 4,
 "nbformat_minor": 0
}
