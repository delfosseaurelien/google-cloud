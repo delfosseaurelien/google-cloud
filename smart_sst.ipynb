{
 "cells": [
  {
   "cell_type": "code",
   "execution_count": 2,
   "metadata": {
    "collapsed": true
   },
   "outputs": [],
   "source": [
    "import gcp.bigquery as bq\n",
    "import pandas as pd\n",
    "import numpy as np"
   ]
  },
  {
   "cell_type": "code",
   "execution_count": null,
   "metadata": {
    "collapsed": false
   },
   "outputs": [],
   "source": [
    "%%sql --module all_tables\n",
    "SELECT * FROM (SELECT date,idstation,NTH(2,SPLIT(meter,'=')) as meter,XQ001 \n",
    "              FROM [raw_data_warsaw_clean.all_tables]) \n",
    "WHERE meter='S20NDD10BU900'"
   ]
  },
  {
   "cell_type": "code",
   "execution_count": null,
   "metadata": {
    "collapsed": false
   },
   "outputs": [],
   "source": [
    "df = bq.Query(all_tables).to_dataframe()\n",
    "len(df)"
   ]
  },
  {
   "cell_type": "code",
   "execution_count": 10,
   "metadata": {
    "collapsed": false
   },
   "outputs": [
    {
     "data": {
      "text/html": [
       "<div>\n",
       "<table border=\"1\" class=\"dataframe\">\n",
       "  <thead>\n",
       "    <tr style=\"text-align: right;\">\n",
       "      <th></th>\n",
       "      <th>date</th>\n",
       "      <th>idstation</th>\n",
       "      <th>meter</th>\n",
       "      <th>XQ001</th>\n",
       "    </tr>\n",
       "  </thead>\n",
       "  <tbody>\n",
       "    <tr>\n",
       "      <th>1</th>\n",
       "      <td>2015-12-28 01:55:00</td>\n",
       "      <td>w100</td>\n",
       "      <td>S20NDD10BU900</td>\n",
       "      <td>15260.1</td>\n",
       "    </tr>\n",
       "    <tr>\n",
       "      <th>2</th>\n",
       "      <td>2015-12-28 02:55:00</td>\n",
       "      <td>w100</td>\n",
       "      <td>S20NDD10BU900</td>\n",
       "      <td>15260.5</td>\n",
       "    </tr>\n",
       "    <tr>\n",
       "      <th>3</th>\n",
       "      <td>2015-12-28 03:55:00</td>\n",
       "      <td>w100</td>\n",
       "      <td>S20NDD10BU900</td>\n",
       "      <td>15260.8</td>\n",
       "    </tr>\n",
       "    <tr>\n",
       "      <th>4</th>\n",
       "      <td>2015-12-28 04:55:00</td>\n",
       "      <td>w100</td>\n",
       "      <td>S20NDD10BU900</td>\n",
       "      <td>15261.2</td>\n",
       "    </tr>\n",
       "    <tr>\n",
       "      <th>5</th>\n",
       "      <td>2015-12-28 05:55:00</td>\n",
       "      <td>w100</td>\n",
       "      <td>S20NDD10BU900</td>\n",
       "      <td>15261.6</td>\n",
       "    </tr>\n",
       "    <tr>\n",
       "      <th>6</th>\n",
       "      <td>2015-12-28 06:55:00</td>\n",
       "      <td>w100</td>\n",
       "      <td>S20NDD10BU900</td>\n",
       "      <td>15262.0</td>\n",
       "    </tr>\n",
       "    <tr>\n",
       "      <th>7</th>\n",
       "      <td>2015-12-28 07:55:00</td>\n",
       "      <td>w100</td>\n",
       "      <td>S20NDD10BU900</td>\n",
       "      <td>15262.4</td>\n",
       "    </tr>\n",
       "    <tr>\n",
       "      <th>8</th>\n",
       "      <td>2015-12-28 08:55:00</td>\n",
       "      <td>w100</td>\n",
       "      <td>S20NDD10BU900</td>\n",
       "      <td>15262.9</td>\n",
       "    </tr>\n",
       "    <tr>\n",
       "      <th>9</th>\n",
       "      <td>2015-12-28 09:55:00</td>\n",
       "      <td>w100</td>\n",
       "      <td>S20NDD10BU900</td>\n",
       "      <td>15263.4</td>\n",
       "    </tr>\n",
       "    <tr>\n",
       "      <th>10</th>\n",
       "      <td>2015-12-28 10:55:00</td>\n",
       "      <td>w100</td>\n",
       "      <td>S20NDD10BU900</td>\n",
       "      <td>15263.9</td>\n",
       "    </tr>\n",
       "  </tbody>\n",
       "</table>\n",
       "</div>"
      ],
      "text/plain": [
       "                  date idstation          meter    XQ001\n",
       "1  2015-12-28 01:55:00      w100  S20NDD10BU900  15260.1\n",
       "2  2015-12-28 02:55:00      w100  S20NDD10BU900  15260.5\n",
       "3  2015-12-28 03:55:00      w100  S20NDD10BU900  15260.8\n",
       "4  2015-12-28 04:55:00      w100  S20NDD10BU900  15261.2\n",
       "5  2015-12-28 05:55:00      w100  S20NDD10BU900  15261.6\n",
       "6  2015-12-28 06:55:00      w100  S20NDD10BU900  15262.0\n",
       "7  2015-12-28 07:55:00      w100  S20NDD10BU900  15262.4\n",
       "8  2015-12-28 08:55:00      w100  S20NDD10BU900  15262.9\n",
       "9  2015-12-28 09:55:00      w100  S20NDD10BU900  15263.4\n",
       "10 2015-12-28 10:55:00      w100  S20NDD10BU900  15263.9"
      ]
     },
     "execution_count": 10,
     "metadata": {},
     "output_type": "execute_result"
    }
   ],
   "source": [
    "df.loc[1:10,]"
   ]
  },
  {
   "cell_type": "code",
   "execution_count": null,
   "metadata": {
    "collapsed": true
   },
   "outputs": [],
   "source": []
  },
  {
   "cell_type": "code",
   "execution_count": null,
   "metadata": {
    "collapsed": true
   },
   "outputs": [],
   "source": []
  }
 ],
 "metadata": {
  "kernelspec": {
   "display_name": "Python 2",
   "language": "python",
   "name": "python2"
  },
  "language_info": {
   "codemirror_mode": {
    "name": "ipython",
    "version": 2
   },
   "file_extension": ".py",
   "mimetype": "text/x-python",
   "name": "python",
   "nbconvert_exporter": "python",
   "pygments_lexer": "ipython2",
   "version": "2.7.9"
  }
 },
 "nbformat": 4,
 "nbformat_minor": 0
}
